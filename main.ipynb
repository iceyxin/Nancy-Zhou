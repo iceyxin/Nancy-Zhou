{
 "cells": [
  {
   "cell_type": "code",
   "execution_count": null,
   "id": "4b879313-cceb-4b9f-b3ce-b00969e512b9",
   "metadata": {},
   "outputs": [],
   "source": [
    "from game_functions import initial_board, display_board, move_left, move_right, move_up, move_down, initial_cell, check_win, check_loss\n",
    "\n",
    "\n",
    "def exit_game():\n",
    "    print(\"Thanks for playing! Exiting the game.\")\n",
    "    exit()  # Exits the program\n",
    "\n",
    "def main():\n",
    "    board = initial_board()\n",
    "    display_board(board)\n",
    "    \n",
    "    while True:\n",
    "        try:\n",
    "            # Get user input for the direction of movement\n",
    "            user_input = input(\"Enter move (W/A/S/D for Up/Left/Down/Right, or Q to Quit): \").upper()\n",
    "            \n",
    "            # Check for quit command\n",
    "            if user_input == 'Q':\n",
    "                exit_game()\n",
    "            \n",
    "            # Check the input and make the move\n",
    "            if user_input == 'W':\n",
    "                moved = move_up(board)\n",
    "            elif user_input == 'A':\n",
    "                moved = move_left(board)\n",
    "            elif user_input == 'S':\n",
    "                moved = move_down(board)\n",
    "            elif user_input == 'D':\n",
    "                moved = move_right(board)\n",
    "            else:\n",
    "                raise ValueError(\"Invalid input! Please enter W, A, S, D, or Q.\")\n",
    "\n",
    "            # Only add a new tile if a move was made (i.e., the board changed)\n",
    "            if moved:\n",
    "                initial_cell(board)\n",
    "                display_board(board)\n",
    "            else:\n",
    "                print(\"No tiles moved. Try a different direction.\")\n",
    "\n",
    "            # Check for win/lose conditions\n",
    "            if check_win(board):\n",
    "                print(\"Congratulations! You've reached 2048!\")\n",
    "                break\n",
    "            elif check_loss(board):\n",
    "                print(\"Game Over! No more moves available.\")\n",
    "                break\n",
    "\n",
    "        except ValueError as e:\n",
    "            print(e)  # Prints the error message for invalid input and loops again for a valid input\n",
    "\n",
    "if __name__ == \"__main__\":\n",
    "    main()"
   ]
  },
  {
   "cell_type": "code",
   "execution_count": null,
   "id": "733224fa-8ae2-4934-9710-1084c38f8dbf",
   "metadata": {},
   "outputs": [],
   "source": []
  }
 ],
 "metadata": {
  "kernelspec": {
   "display_name": "Python 3 (ipykernel)",
   "language": "python",
   "name": "python3"
  },
  "language_info": {
   "codemirror_mode": {
    "name": "ipython",
    "version": 3
   },
   "file_extension": ".py",
   "mimetype": "text/x-python",
   "name": "python",
   "nbconvert_exporter": "python",
   "pygments_lexer": "ipython3",
   "version": "3.9.20"
  }
 },
 "nbformat": 4,
 "nbformat_minor": 5
}
